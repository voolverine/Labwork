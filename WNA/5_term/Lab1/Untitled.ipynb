{
 "cells": [
  {
   "cell_type": "code",
   "execution_count": 7,
   "metadata": {
    "collapsed": false
   },
   "outputs": [
    {
     "name": "stdout",
     "output_type": "stream",
     "text": [
      "Метод Эйлера:\n"
     ]
    },
    {
     "ename": "NameError",
     "evalue": "name 'EPS' is not defined",
     "output_type": "error",
     "traceback": [
      "\u001b[0;31m---------------------------------------------------------------------------\u001b[0m",
      "\u001b[0;31mNameError\u001b[0m                                 Traceback (most recent call last)",
      "\u001b[0;32m<ipython-input-7-2cc136348c06>\u001b[0m in \u001b[0;36m<module>\u001b[0;34m()\u001b[0m\n\u001b[1;32m     29\u001b[0m \u001b[0;34m\u001b[0m\u001b[0m\n\u001b[1;32m     30\u001b[0m \u001b[0;32mprint\u001b[0m \u001b[0;34m\"Метод Эйлера:\"\u001b[0m\u001b[0;34m\u001b[0m\u001b[0m\n\u001b[0;32m---> 31\u001b[0;31m \u001b[0mbeautiful_print\u001b[0m\u001b[0;34m(\u001b[0m\u001b[0mEulerMethod\u001b[0m\u001b[0;34m(\u001b[0m\u001b[0;36m0.0\u001b[0m\u001b[0;34m,\u001b[0m \u001b[0;36m1.0\u001b[0m\u001b[0;34m,\u001b[0m \u001b[0mf\u001b[0m\u001b[0;34m,\u001b[0m \u001b[0;36m0.0\u001b[0m\u001b[0;34m,\u001b[0m \u001b[0;36m0.0\u001b[0m\u001b[0;34m,\u001b[0m \u001b[0mEPS\u001b[0m\u001b[0;34m)\u001b[0m\u001b[0;34m)\u001b[0m\u001b[0;34m\u001b[0m\u001b[0m\n\u001b[0m",
      "\u001b[0;31mNameError\u001b[0m: name 'EPS' is not defined"
     ]
    }
   ],
   "source": [
    "# -*- coding: utf-8 -*-\n",
    "\n",
    "def beautiful_print(results):\n",
    "    for i in xrange(len(results)):\n",
    "        print \"x = {0} \\t y = {1}\".format(results[i][0], results[i][1])\n",
    "\n",
    "def f(x, y):\n",
    "    m = 1.0\n",
    "    a = 0.7\n",
    "    \n",
    "    return a * (1.0 - y**2) / ((1.0 + m) * x**2 + y**2 + 1)\n",
    "\n",
    "def EulerMethod(a, b, f, x0, y0, EPS):\n",
    "    k = 200\n",
    "    h = (b - a) * 1.0 / k\n",
    "    \n",
    "    result = [(x0, y0)]\n",
    "    curx = x0\n",
    "    cury = y0\n",
    "    \n",
    "    for i in xrange(k):\n",
    "        cury = cury + h * f(curx, cury)\n",
    "        curx = curx + h\n",
    "        \n",
    "        result.append((curx, cury))\n",
    "        \n",
    "    return result\n",
    "\n",
    "\n",
    "print \"Метод Эйлера:\"\n",
    "beautiful_print(EulerMethod(0.0, 1.0, f, 0.0, 0.0, EPS))\n"
   ]
  },
  {
   "cell_type": "code",
   "execution_count": 8,
   "metadata": {
    "collapsed": false
   },
   "outputs": [
    {
     "name": "stdout",
     "output_type": "stream",
     "text": [
      "Метод Рунге-Кутты:\n",
      "x = 0.0 \t y = 0.0\n",
      "x = 0.177827941004 \t y = 0.120789765784\n",
      "x = 0.355655882008 \t y = 0.223468174647\n",
      "x = 0.533483823012 \t y = 0.30255249382\n",
      "x = 0.711311764016 \t y = 0.361398100885\n",
      "x = 0.889139705019 \t y = 0.40523752354\n"
     ]
    }
   ],
   "source": [
    "# -*- coding: utf-8 -*-\n",
    "\n",
    "def beautiful_print(results):\n",
    "    for i in xrange(len(results)):\n",
    "        print \"x = {0} \\t y = {1}\".format(results[i][0], results[i][1])\n",
    "\n",
    "def f(x, y):\n",
    "    m = 1.0\n",
    "    a = 0.7\n",
    "    \n",
    "    return a * (1.0 - y**2) / ((1.0 + m) * x**2 + y**2 + 1)\n",
    "\n",
    "def RungeKuttaMethod(a, b, f, x0, y0, EPS):\n",
    "    h = EPS**(0.25)\n",
    "    n = int((b - a) / h)\n",
    "    \n",
    "    result = [(x0, y0)]\n",
    "    curx = x0\n",
    "    cury = y0\n",
    "    \n",
    "    for i in xrange(n):\n",
    "        K1 = h * f(curx, cury)\n",
    "        K2 = h * f(curx + h / 2.0, cury + K1 / 2.0)\n",
    "        K3 = h * f(curx + h / 2.0, cury + K2 / 2.0)\n",
    "        K4 = h * f(curx + h, cury + K3)\n",
    "        \n",
    "        cury = cury + 1.0 / 6.0 * (K1 + 2 * K2 + 2 * K3 + K4)\n",
    "        curx = curx + h\n",
    "        result.append((curx, cury))\n",
    "        \n",
    "    return result\n",
    "\n",
    "print \"Метод Рунге-Кутты:\"\n",
    "beautiful_print(RungeKuttaMethod(0.0, 1.0, f, 0.0, 0.0, 0.001))\n"
   ]
  }
 ],
 "metadata": {
  "kernelspec": {
   "display_name": "Python 2",
   "language": "python",
   "name": "python2"
  },
  "language_info": {
   "codemirror_mode": {
    "name": "ipython",
    "version": 2
   },
   "file_extension": ".py",
   "mimetype": "text/x-python",
   "name": "python",
   "nbconvert_exporter": "python",
   "pygments_lexer": "ipython2",
   "version": "2.7.11"
  }
 },
 "nbformat": 4,
 "nbformat_minor": 0
}
